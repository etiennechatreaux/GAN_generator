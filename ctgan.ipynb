{
 "cells": [
  {
   "cell_type": "code",
   "execution_count": 1,
   "metadata": {},
   "outputs": [],
   "source": [
    "from ctgan import CTGAN\n",
    "import pandas as pd"
   ]
  },
  {
   "cell_type": "code",
   "execution_count": 2,
   "metadata": {},
   "outputs": [],
   "source": [
    "data = pd.read_csv('data_voitures.csv')\n",
    "discrete_columns = ['marque', 'carburant', 'type_vendeur', 'transmission', 'proprietaire', 'moteur', 'puissance']"
   ]
  },
  {
   "cell_type": "code",
   "execution_count": 3,
   "metadata": {},
   "outputs": [
    {
     "name": "stdout",
     "output_type": "stream",
     "text": [
      "<class 'pandas.core.frame.DataFrame'>\n",
      "RangeIndex: 7781 entries, 0 to 7780\n",
      "Data columns (total 12 columns):\n",
      " #   Column         Non-Null Count  Dtype  \n",
      "---  ------         --------------  -----  \n",
      " 0   marque         7781 non-null   object \n",
      " 1   annee          7781 non-null   int64  \n",
      " 2   prix_de_vente  7781 non-null   int64  \n",
      " 3   kilometrage    7781 non-null   int64  \n",
      " 4   carburant      7781 non-null   object \n",
      " 5   type_vendeur   7781 non-null   object \n",
      " 6   transmission   7781 non-null   object \n",
      " 7   proprietaire   7781 non-null   object \n",
      " 8   consommation   7781 non-null   float64\n",
      " 9   moteur         7781 non-null   int64  \n",
      " 10  puissance      7781 non-null   float64\n",
      " 11  nb_sieges      7781 non-null   float64\n",
      "dtypes: float64(3), int64(4), object(5)\n",
      "memory usage: 729.6+ KB\n"
     ]
    }
   ],
   "source": [
    "data.info()"
   ]
  },
  {
   "cell_type": "markdown",
   "metadata": {},
   "source": [
    "# GAN training  :"
   ]
  },
  {
   "cell_type": "code",
   "execution_count": null,
   "metadata": {},
   "outputs": [],
   "source": [
    "gan = CTGAN()\n",
    "gan.fit(data, discrete_columns, epochs=3000)"
   ]
  },
  {
   "cell_type": "code",
   "execution_count": null,
   "metadata": {},
   "outputs": [],
   "source": [
    "generated_data = gan.sample(50)\n",
    "generated_data.head(5)\n",
    "generated_data.to_csv('generated_data_voitures.csv', index=False)"
   ]
  }
 ],
 "metadata": {
  "kernelspec": {
   "display_name": "Python 3",
   "language": "python",
   "name": "python3"
  },
  "language_info": {
   "codemirror_mode": {
    "name": "ipython",
    "version": 3
   },
   "file_extension": ".py",
   "mimetype": "text/x-python",
   "name": "python",
   "nbconvert_exporter": "python",
   "pygments_lexer": "ipython3",
   "version": "3.10.0"
  }
 },
 "nbformat": 4,
 "nbformat_minor": 2
}
